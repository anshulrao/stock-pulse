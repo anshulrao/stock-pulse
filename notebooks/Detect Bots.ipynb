{
 "cells": [
  {
   "cell_type": "code",
   "execution_count": 1,
   "id": "18aed867-b09a-4efd-bcc9-6ceb3f385588",
   "metadata": {},
   "outputs": [],
   "source": [
    "import pandas as pd\n",
    "from collections import Counter\n",
    "from datetime import datetime\n",
    "from sklearn.feature_extraction.text import CountVectorizer\n",
    "from sklearn.decomposition import LatentDirichletAllocation\n",
    "from sklearn.ensemble import IsolationForest\n",
    "from sklearn.preprocessing import StandardScaler\n",
    "from sklearn.pipeline import make_pipeline"
   ]
  },
  {
   "cell_type": "code",
   "execution_count": 2,
   "id": "03f2401c-4be8-40db-b3b4-18667c607b44",
   "metadata": {},
   "outputs": [],
   "source": [
    "from text_cleaner import TextCleaner"
   ]
  },
  {
   "cell_type": "markdown",
   "id": "753b12d1-1bc9-4ad3-9919-4f859409f399",
   "metadata": {},
   "source": [
    "### Load the dataset"
   ]
  },
  {
   "cell_type": "code",
   "execution_count": 3,
   "id": "9460a3bc-a2dd-4467-8461-d2c52d9c7a9e",
   "metadata": {},
   "outputs": [],
   "source": [
    "df = pd.read_csv('../data/NFLX.csv.gz')"
   ]
  },
  {
   "cell_type": "code",
   "execution_count": 4,
   "id": "6f19e8de-4295-4147-ac4b-63c4b9afa393",
   "metadata": {},
   "outputs": [
    {
     "data": {
      "text/html": [
       "<div>\n",
       "<style scoped>\n",
       "    .dataframe tbody tr th:only-of-type {\n",
       "        vertical-align: middle;\n",
       "    }\n",
       "\n",
       "    .dataframe tbody tr th {\n",
       "        vertical-align: top;\n",
       "    }\n",
       "\n",
       "    .dataframe thead th {\n",
       "        text-align: right;\n",
       "    }\n",
       "</style>\n",
       "<table border=\"1\" class=\"dataframe\">\n",
       "  <thead>\n",
       "    <tr style=\"text-align: right;\">\n",
       "      <th></th>\n",
       "      <th>created_at</th>\n",
       "      <th>user_name</th>\n",
       "      <th>user_id</th>\n",
       "      <th>bear_bull_tag</th>\n",
       "      <th>text</th>\n",
       "      <th>message_id</th>\n",
       "    </tr>\n",
       "  </thead>\n",
       "  <tbody>\n",
       "    <tr>\n",
       "      <th>0</th>\n",
       "      <td>2022-01-25 02:17:32+00:00</td>\n",
       "      <td>nightwatchman99</td>\n",
       "      <td>1635725</td>\n",
       "      <td>Bullish</td>\n",
       "      <td>$NFLX shhh</td>\n",
       "      <td>429999796</td>\n",
       "    </tr>\n",
       "    <tr>\n",
       "      <th>1</th>\n",
       "      <td>2022-01-25 02:13:48+00:00</td>\n",
       "      <td>OptionsPlayers</td>\n",
       "      <td>619769</td>\n",
       "      <td>NIL</td>\n",
       "      <td>$AMD $NVDA $NFLX Print and Post this in your t...</td>\n",
       "      <td>429999027</td>\n",
       "    </tr>\n",
       "    <tr>\n",
       "      <th>2</th>\n",
       "      <td>2022-01-25 02:05:04+00:00</td>\n",
       "      <td>LucidDreamer</td>\n",
       "      <td>4651936</td>\n",
       "      <td>Bullish</td>\n",
       "      <td>$NFLX $400 weekly calls up over 70% already. H...</td>\n",
       "      <td>429997295</td>\n",
       "    </tr>\n",
       "    <tr>\n",
       "      <th>3</th>\n",
       "      <td>2022-01-25 02:03:08+00:00</td>\n",
       "      <td>Christmas_is_my_favorit7</td>\n",
       "      <td>4346156</td>\n",
       "      <td>NIL</td>\n",
       "      <td>$NFLX mark this post.  We see 350 again. I&amp;#39...</td>\n",
       "      <td>429996910</td>\n",
       "    </tr>\n",
       "    <tr>\n",
       "      <th>4</th>\n",
       "      <td>2022-01-25 02:02:51+00:00</td>\n",
       "      <td>Marlin2008</td>\n",
       "      <td>3168679</td>\n",
       "      <td>NIL</td>\n",
       "      <td>$NFLX 350 I’m loading the boat. Will see if it...</td>\n",
       "      <td>429996849</td>\n",
       "    </tr>\n",
       "  </tbody>\n",
       "</table>\n",
       "</div>"
      ],
      "text/plain": [
       "                  created_at                 user_name  user_id bear_bull_tag  \\\n",
       "0  2022-01-25 02:17:32+00:00           nightwatchman99  1635725       Bullish   \n",
       "1  2022-01-25 02:13:48+00:00            OptionsPlayers   619769           NIL   \n",
       "2  2022-01-25 02:05:04+00:00              LucidDreamer  4651936       Bullish   \n",
       "3  2022-01-25 02:03:08+00:00  Christmas_is_my_favorit7  4346156           NIL   \n",
       "4  2022-01-25 02:02:51+00:00                Marlin2008  3168679           NIL   \n",
       "\n",
       "                                                text  message_id  \n",
       "0                                         $NFLX shhh   429999796  \n",
       "1  $AMD $NVDA $NFLX Print and Post this in your t...   429999027  \n",
       "2  $NFLX $400 weekly calls up over 70% already. H...   429997295  \n",
       "3  $NFLX mark this post.  We see 350 again. I&#39...   429996910  \n",
       "4  $NFLX 350 I’m loading the boat. Will see if it...   429996849  "
      ]
     },
     "execution_count": 4,
     "metadata": {},
     "output_type": "execute_result"
    }
   ],
   "source": [
    "df.head()"
   ]
  },
  {
   "cell_type": "code",
   "execution_count": 5,
   "id": "08cd7bcf-9126-4c77-96a8-f78186782fa4",
   "metadata": {},
   "outputs": [],
   "source": [
    "user_tweet_counts = Counter(df['user_name'])\n",
    "df['tweet_count'] = df['user_name'].map(user_tweet_counts)"
   ]
  },
  {
   "cell_type": "code",
   "execution_count": 6,
   "id": "a9f60654-efa9-4041-88cd-c01f6802d2fe",
   "metadata": {},
   "outputs": [],
   "source": [
    "df['created_at'] = pd.to_datetime(df['created_at'])\n",
    "df['hour_of_day'] = df['created_at'].dt.hour"
   ]
  },
  {
   "cell_type": "code",
   "execution_count": 7,
   "id": "3e883024-3808-41d2-a53e-aee94cecf83b",
   "metadata": {},
   "outputs": [
    {
     "name": "stderr",
     "output_type": "stream",
     "text": [
      "[nltk_data] Downloading package punkt to /Users/anshulrao/nltk_data...\n",
      "[nltk_data]   Package punkt is already up-to-date!\n",
      "[nltk_data] Downloading package stopwords to\n",
      "[nltk_data]     /Users/anshulrao/nltk_data...\n",
      "[nltk_data]   Package stopwords is already up-to-date!\n",
      "[nltk_data] Downloading package wordnet to\n",
      "[nltk_data]     /Users/anshulrao/nltk_data...\n",
      "[nltk_data]   Package wordnet is already up-to-date!\n"
     ]
    }
   ],
   "source": [
    "cleaner = TextCleaner()"
   ]
  },
  {
   "cell_type": "code",
   "execution_count": 8,
   "id": "b0c9eef6-7e1e-45d7-bdd5-9ecbd750059f",
   "metadata": {},
   "outputs": [],
   "source": [
    "df['text'] = df.apply(lambda r: cleaner.clean_text(r.text), axis=1)"
   ]
  },
  {
   "cell_type": "markdown",
   "id": "96cfafe4-c09e-4533-8645-18560ee1c089",
   "metadata": {},
   "source": [
    "### Use Latent Dirichlet Allocation (LDA) to extract topics from the text"
   ]
  },
  {
   "cell_type": "code",
   "execution_count": 9,
   "id": "676b2439-0843-4d0a-bdc5-5e550c585c16",
   "metadata": {},
   "outputs": [],
   "source": [
    "vectorizer = CountVectorizer(stop_words='english', max_features=1000)\n",
    "lda = LatentDirichletAllocation(n_components=5, random_state=42)"
   ]
  },
  {
   "cell_type": "code",
   "execution_count": 10,
   "id": "c93b4257-5dd1-4ba7-98b0-2499c5004378",
   "metadata": {},
   "outputs": [],
   "source": [
    "text_features = vectorizer.fit_transform(df['text'])\n",
    "topic_features = lda.fit_transform(text_features)"
   ]
  },
  {
   "cell_type": "code",
   "execution_count": 11,
   "id": "bc8206dd-0fa4-4e74-b320-dbe1e6ce22fb",
   "metadata": {},
   "outputs": [],
   "source": [
    "df[['topic_{}'.format(i) for i in range(5)]] = topic_features"
   ]
  },
  {
   "cell_type": "code",
   "execution_count": 12,
   "id": "25fdc5bc-a214-4a83-bf26-67a13262eb7e",
   "metadata": {},
   "outputs": [],
   "source": [
    "features = df[['tweet_count', 'hour_of_day'] + ['topic_{}'.format(i) for i in range(5)]]"
   ]
  },
  {
   "cell_type": "code",
   "execution_count": 14,
   "id": "e75d4794-b7c6-4c40-95af-c4fe83f682c9",
   "metadata": {},
   "outputs": [
    {
     "data": {
      "text/html": [
       "<div>\n",
       "<style scoped>\n",
       "    .dataframe tbody tr th:only-of-type {\n",
       "        vertical-align: middle;\n",
       "    }\n",
       "\n",
       "    .dataframe tbody tr th {\n",
       "        vertical-align: top;\n",
       "    }\n",
       "\n",
       "    .dataframe thead th {\n",
       "        text-align: right;\n",
       "    }\n",
       "</style>\n",
       "<table border=\"1\" class=\"dataframe\">\n",
       "  <thead>\n",
       "    <tr style=\"text-align: right;\">\n",
       "      <th></th>\n",
       "      <th>tweet_count</th>\n",
       "      <th>hour_of_day</th>\n",
       "      <th>topic_0</th>\n",
       "      <th>topic_1</th>\n",
       "      <th>topic_2</th>\n",
       "      <th>topic_3</th>\n",
       "      <th>topic_4</th>\n",
       "    </tr>\n",
       "  </thead>\n",
       "  <tbody>\n",
       "    <tr>\n",
       "      <th>0</th>\n",
       "      <td>14</td>\n",
       "      <td>2</td>\n",
       "      <td>0.101347</td>\n",
       "      <td>0.101701</td>\n",
       "      <td>0.102274</td>\n",
       "      <td>0.102841</td>\n",
       "      <td>0.591837</td>\n",
       "    </tr>\n",
       "    <tr>\n",
       "      <th>1</th>\n",
       "      <td>439</td>\n",
       "      <td>2</td>\n",
       "      <td>0.012613</td>\n",
       "      <td>0.322967</td>\n",
       "      <td>0.302334</td>\n",
       "      <td>0.012961</td>\n",
       "      <td>0.349125</td>\n",
       "    </tr>\n",
       "    <tr>\n",
       "      <th>2</th>\n",
       "      <td>18</td>\n",
       "      <td>2</td>\n",
       "      <td>0.029245</td>\n",
       "      <td>0.028706</td>\n",
       "      <td>0.029006</td>\n",
       "      <td>0.029752</td>\n",
       "      <td>0.883291</td>\n",
       "    </tr>\n",
       "    <tr>\n",
       "      <th>3</th>\n",
       "      <td>31</td>\n",
       "      <td>2</td>\n",
       "      <td>0.020224</td>\n",
       "      <td>0.154577</td>\n",
       "      <td>0.020203</td>\n",
       "      <td>0.020123</td>\n",
       "      <td>0.784874</td>\n",
       "    </tr>\n",
       "    <tr>\n",
       "      <th>4</th>\n",
       "      <td>3</td>\n",
       "      <td>2</td>\n",
       "      <td>0.067039</td>\n",
       "      <td>0.067160</td>\n",
       "      <td>0.067278</td>\n",
       "      <td>0.067415</td>\n",
       "      <td>0.731109</td>\n",
       "    </tr>\n",
       "  </tbody>\n",
       "</table>\n",
       "</div>"
      ],
      "text/plain": [
       "   tweet_count  hour_of_day   topic_0   topic_1   topic_2   topic_3   topic_4\n",
       "0           14            2  0.101347  0.101701  0.102274  0.102841  0.591837\n",
       "1          439            2  0.012613  0.322967  0.302334  0.012961  0.349125\n",
       "2           18            2  0.029245  0.028706  0.029006  0.029752  0.883291\n",
       "3           31            2  0.020224  0.154577  0.020203  0.020123  0.784874\n",
       "4            3            2  0.067039  0.067160  0.067278  0.067415  0.731109"
      ]
     },
     "execution_count": 14,
     "metadata": {},
     "output_type": "execute_result"
    }
   ],
   "source": [
    "features.head()"
   ]
  },
  {
   "cell_type": "markdown",
   "id": "438fd927-85f8-4518-8b40-00349ffde2c4",
   "metadata": {},
   "source": [
    "### Detecting outliers using Isolation Forest"
   ]
  },
  {
   "cell_type": "code",
   "execution_count": 16,
   "id": "4b16f659-261f-49ed-98e4-a99d9f8a43d6",
   "metadata": {},
   "outputs": [],
   "source": [
    "model = make_pipeline(StandardScaler(), IsolationForest(contamination=0.01, random_state=42))\n",
    "df['bot_score'] = model.fit_predict(features)"
   ]
  },
  {
   "cell_type": "markdown",
   "id": "2c909567-aa43-47be-b111-bae2fe8a47b4",
   "metadata": {},
   "source": [
    "### Display potential bots"
   ]
  },
  {
   "cell_type": "code",
   "execution_count": 22,
   "id": "f4f5661d-974b-480b-96d8-4ec4e9187eb8",
   "metadata": {},
   "outputs": [
    {
     "name": "stdout",
     "output_type": "stream",
     "text": [
      "Potential Bots:\n",
      "['ChartMill' 'Newsfilter' 'GrindTime' 'ElliottwaveForecast' 'Sliver'\n",
      " 'STCKPRO' 'Trading4Living']\n"
     ]
    }
   ],
   "source": [
    "potential_bots = df[df['bot_score'] == -1]\n",
    "print(\"Potential Bots:\")\n",
    "print(potential_bots.user_name.unique())"
   ]
  },
  {
   "cell_type": "markdown",
   "id": "6cabf4fb-9427-4c7c-bcf4-aeabf9b35ae7",
   "metadata": {},
   "source": [
    "Almost all of these accounts seem to be business accounts with thousands of followers and they tweet frequently and in a systematic way."
   ]
  }
 ],
 "metadata": {
  "kernelspec": {
   "display_name": "ipy-jupyter-venv3",
   "language": "python",
   "name": "myipy_jupter_env3"
  },
  "language_info": {
   "codemirror_mode": {
    "name": "ipython",
    "version": 3
   },
   "file_extension": ".py",
   "mimetype": "text/x-python",
   "name": "python",
   "nbconvert_exporter": "python",
   "pygments_lexer": "ipython3",
   "version": "3.9.10"
  }
 },
 "nbformat": 4,
 "nbformat_minor": 5
}
